{
 "cells": [
  {
   "cell_type": "markdown",
   "metadata": {},
   "source": [
    "visio以及powerpoint特别不方便,虽然画出来很好看,但是拓扑不方便转化为结构化的数据格式.也很难在这样的拓扑上来进行路径的计算.\n",
    "\n",
    "这里将会使用类似DOT语言的一个python模块\n",
    "\n",
    "networkx是一个功能丰富的用于拓扑计算的模块"
   ]
  },
  {
   "cell_type": "markdown",
   "metadata": {},
   "source": [
    "为了计算网络的路径,我们需要先输入网络的拓扑关系,有了网络的拓扑关系,才可以进行基于路径拓扑的计算.\n",
    "在网络拓扑的描述上,networkx和dot非常相似,也分为3各部分:节点,边缘和属性.\n",
    "在networkx中,节点成为node,边是链路,成为edge."
   ]
  },
  {
   "cell_type": "code",
   "execution_count": 19,
   "metadata": {
    "collapsed": true
   },
   "outputs": [],
   "source": [
    "import networkx as nx\n",
    "nodes = [\"BJ\",\"SH\",\"GZ\",\"HZ\",\"NJ\",\"WH\",\"XA\"]\n",
    "#初始化无向量的单重图\n",
    "G = nx.Graph()"
   ]
  },
  {
   "cell_type": "code",
   "execution_count": 20,
   "metadata": {
    "collapsed": true
   },
   "outputs": [],
   "source": [
    "#添加节点到图表中\n",
    "for node in nodes:\n",
    "    G.add_node(node)\n"
   ]
  },
  {
   "cell_type": "code",
   "execution_count": 27,
   "metadata": {},
   "outputs": [],
   "source": [
    "edges = [\n",
    "    (\"BJ\",\"NJ\",9),\n",
    "    (\"BJ\",\"SH\",9),\n",
    "    (\"BJ\",\"GZ\",9),\n",
    "    (\"BJ\",\"XA\",2),\n",
    "    (\"BJ\",\"WH\",2),\n",
    "    (\"XA\",\"GZ\",9),\n",
    "    (\"WH\",\"SH\",1),\n",
    "    (\"GZ\",\"HZ\",9),\n",
    "    (\"HZ\",\"SH\",1),\n",
    "    (\"NJ\",\"SH\",2),\n",
    "    (\"GZ\",\"SH\",9),\n",
    "]\n",
    "\n",
    "#图\n",
    "G.add_weighted_edges_from(edges)"
   ]
  },
  {
   "cell_type": "markdown",
   "metadata": {},
   "source": [
    "假设每个点之间的cost为1,来算2个节点之间,最近的路径"
   ]
  },
  {
   "cell_type": "code",
   "execution_count": 25,
   "metadata": {},
   "outputs": [
    {
     "data": {
      "text/plain": [
       "['XA', 'GZ', 'HZ']"
      ]
     },
     "execution_count": 25,
     "metadata": {},
     "output_type": "execute_result"
    }
   ],
   "source": [
    "#G图中,wh到hz的最短路径\n",
    "nx.shortest_path(G,\"XA\",\"HZ\")"
   ]
  },
  {
   "cell_type": "code",
   "execution_count": 28,
   "metadata": {},
   "outputs": [
    {
     "data": {
      "text/plain": [
       "['XA', 'BJ', 'WH', 'SH', 'HZ']"
      ]
     },
     "execution_count": 28,
     "metadata": {},
     "output_type": "execute_result"
    }
   ],
   "source": [
    "#附加上cost值\n",
    "nx.shortest_path(G,\"XA\",\"HZ\",weight=\"weight\")"
   ]
  },
  {
   "cell_type": "code",
   "execution_count": 29,
   "metadata": {},
   "outputs": [
    {
     "data": {
      "text/plain": [
       "['XA', 'BJ', 'SH', 'HZ']"
      ]
     },
     "execution_count": 29,
     "metadata": {},
     "output_type": "execute_result"
    }
   ],
   "source": [
    "#除了一开始设置的weight以外,比如说现在BJ,WH之间故障了,可以修改这条链路的cost,再重新计算路径\n",
    "G[\"BJ\"][\"WH\"][\"weight\"]=999999\n",
    "nx.shortest_path(G,\"XA\",\"HZ\",weight=\"weight\")\n",
    "\n",
    "#修改后就将不经过bj-wh"
   ]
  },
  {
   "cell_type": "code",
   "execution_count": 32,
   "metadata": {},
   "outputs": [
    {
     "data": {
      "text/plain": [
       "[['BJ', 'SH', 'HZ'], ['BJ', 'GZ', 'HZ']]"
      ]
     },
     "execution_count": 32,
     "metadata": {},
     "output_type": "execute_result"
    }
   ],
   "source": [
    "#如果需要等价路径呢?使用all_shortest_paths\n",
    "list(nx.all_shortest_paths(G,\"BJ\",\"HZ\",weight=None))"
   ]
  },
  {
   "cell_type": "code",
   "execution_count": 36,
   "metadata": {
    "scrolled": true
   },
   "outputs": [
    {
     "name": "stdout",
     "output_type": "stream",
     "text": [
      "['BJ', 'NJ', 'SH', 'HZ']\n",
      "['BJ', 'NJ', 'SH', 'GZ', 'HZ']\n",
      "['BJ', 'SH', 'HZ']\n",
      "['BJ', 'SH', 'GZ', 'HZ']\n",
      "['BJ', 'GZ', 'HZ']\n",
      "['BJ', 'GZ', 'SH', 'HZ']\n",
      "['BJ', 'XA', 'GZ', 'HZ']\n",
      "['BJ', 'XA', 'GZ', 'SH', 'HZ']\n",
      "['BJ', 'WH', 'SH', 'HZ']\n",
      "['BJ', 'WH', 'SH', 'GZ', 'HZ']\n"
     ]
    }
   ],
   "source": [
    "#可用路径计算,使用all_simple_paths,类似回溯.\n",
    "for path in nx.all_simple_paths(G,\"BJ\",\"HZ\"):\n",
    "    print(path)"
   ]
  },
  {
   "cell_type": "code",
   "execution_count": 41,
   "metadata": {
    "scrolled": true
   },
   "outputs": [
    {
     "name": "stdout",
     "output_type": "stream",
     "text": [
      "['BJ', 'NJ', 'SH', 'HZ']\n",
      "['BJ', 'SH', 'HZ']\n",
      "['BJ', 'SH', 'GZ', 'HZ']\n",
      "['BJ', 'GZ', 'HZ']\n",
      "['BJ', 'GZ', 'SH', 'HZ']\n",
      "['BJ', 'XA', 'GZ', 'HZ']\n",
      "['BJ', 'WH', 'SH', 'HZ']\n"
     ]
    }
   ],
   "source": [
    "#获得部分可用路径,如果是全互联,则计算量过于巨大,所以我们只需要最优路径及次优路径的话.则\n",
    "#这里的3,指的是节点最多包含3个的所有路径.(不包括起点)\n",
    "for path in nx.all_simple_paths(G,\"BJ\",\"HZ\",3):\n",
    "    print(path)\n"
   ]
  },
  {
   "cell_type": "code",
   "execution_count": 45,
   "metadata": {},
   "outputs": [
    {
     "name": "stdout",
     "output_type": "stream",
     "text": [
      "['BJ', 'SH', 'HZ'] 10\n",
      "['BJ', 'NJ', 'SH', 'HZ'] 12\n",
      "['BJ', 'GZ', 'HZ'] 18\n",
      "['BJ', 'GZ', 'SH', 'HZ'] 19\n",
      "['BJ', 'XA', 'GZ', 'HZ'] 20\n",
      "['BJ', 'XA', 'GZ', 'SH', 'HZ'] 21\n",
      "['BJ', 'NJ', 'SH', 'GZ', 'HZ'] 29\n",
      "['BJ', 'WH', 'SH', 'HZ'] 1000001\n",
      "['BJ', 'WH', 'SH', 'GZ', 'HZ'] 1000018\n"
     ]
    }
   ],
   "source": [
    "#如果是基于cost来计算呢?\n",
    "#计算cost值\n",
    "def get_path_weigth (G,path):\n",
    "    _weight = 0\n",
    "    for edge in nx.utils.pairwise(path):\n",
    "        _weight += G.edges[edge[0],edge[1]][\"weight\"]\n",
    "    return _weight\n",
    "\n",
    "#根据cost计算路劲\n",
    "for path in nx.shortest_simple_paths(G,\"BJ\",\"HZ\",weight=\"weight\"):\n",
    "    #打印路径及cost值\n",
    "    print(path,get_path_weigth(G,path))"
   ]
  },
  {
   "cell_type": "code",
   "execution_count": 58,
   "metadata": {},
   "outputs": [
    {
     "name": "stdout",
     "output_type": "stream",
     "text": [
      "*** 1 ['BJ', 'SH', 'HZ'] <class 'type'>\n",
      "['BJ', 'SH', 'HZ'] 10\n",
      "*** 2 ['BJ', 'NJ', 'SH', 'HZ'] <class 'type'>\n",
      "['BJ', 'NJ', 'SH', 'HZ'] 12\n",
      "*** 3 ['BJ', 'GZ', 'HZ'] <class 'type'>\n",
      "['BJ', 'GZ', 'HZ'] 18\n",
      "*** 4 ['BJ', 'GZ', 'SH', 'HZ'] <class 'type'>\n"
     ]
    }
   ],
   "source": [
    "#如果是基于cost来计算呢?并且只想要4条最近的可达路径?\n",
    "from itertools import count\n",
    "\n",
    "#定义标签,用来确定这是第几条路径\n",
    "counter = count(1)\n",
    "\n",
    "for c,path in zip(counter,nx.shortest_simple_paths(G,\"BJ\",\"HZ\",weight=\"weight\")):\n",
    "    print(\"***\",c,path,type(zip))\n",
    "    #当c(counter)大于4时,0,1,2,3,结束循环\n",
    "    if c > 3:\n",
    "        break\n",
    "    print(path,get_path_weigth(G,path))\n"
   ]
  }
 ],
 "metadata": {
  "kernelspec": {
   "display_name": "Python 3",
   "language": "python",
   "name": "python3"
  },
  "language_info": {
   "codemirror_mode": {
    "name": "ipython",
    "version": 3
   },
   "file_extension": ".py",
   "mimetype": "text/x-python",
   "name": "python",
   "nbconvert_exporter": "python",
   "pygments_lexer": "ipython3",
   "version": "3.6.3"
  }
 },
 "nbformat": 4,
 "nbformat_minor": 2
}
