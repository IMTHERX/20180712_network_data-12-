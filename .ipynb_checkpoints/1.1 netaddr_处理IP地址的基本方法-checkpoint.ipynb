{
 "cells": [
  {
   "cell_type": "markdown",
   "metadata": {},
   "source": [
    "网络工程师日常的工作中,经常需要处理IP地址信息,比如在一个地址段中,重新分配IP地址子网,又或者汇聚一些路由信息等等.\n",
    "\n",
    "IP地址在使用文本工具或者excel等工具处理的时候,并不是很方便,而在python中,我们可以找到多个用来处理ip地址的模块.\n",
    "\n",
    "比如说有192.168.1.83/27,对于它我们想要知道他的广播地址,网络地址,又或者反掩码,接下来尝试使用netaddr来获取以上信息.\n",
    "\n",
    "它主要由 IPAddress和IPNetwork"
   ]
  },
  {
   "cell_type": "code",
   "execution_count": 5,
   "metadata": {},
   "outputs": [],
   "source": [
    "from netaddr import IPNetwork,IPAddress\n",
    "ip = IPNetwork(\"192.168.1.83/28\")"
   ]
  },
  {
   "cell_type": "code",
   "execution_count": 6,
   "metadata": {},
   "outputs": [
    {
     "data": {
      "text/plain": [
       "[IPNetwork('192.168.1.80/30'),\n",
       " IPNetwork('192.168.1.84/30'),\n",
       " IPNetwork('192.168.1.88/30'),\n",
       " IPNetwork('192.168.1.92/30')]"
      ]
     },
     "execution_count": 6,
     "metadata": {},
     "output_type": "execute_result"
    }
   ],
   "source": [
    "#把ip所在的网段,分为掩码长度为30的几个子网\n",
    "[x for x in ip.subnet(30)]"
   ]
  },
  {
   "cell_type": "code",
   "execution_count": 8,
   "metadata": {
    "scrolled": true
   },
   "outputs": [
    {
     "name": "stdout",
     "output_type": "stream",
     "text": [
      "172.17.1.33\n",
      "172.17.1.34\n",
      "172.17.1.35\n",
      "172.17.1.36\n",
      "172.17.1.37\n",
      "172.17.1.38\n"
     ]
    }
   ],
   "source": [
    "#获取某一地址中的所有主机地址\n",
    "for ip in IPNetwork(\"172.17.1.34/29\").iter_hosts():\n",
    "    print(ip)"
   ]
  },
  {
   "cell_type": "code",
   "execution_count": 15,
   "metadata": {},
   "outputs": [
    {
     "name": "stdout",
     "output_type": "stream",
     "text": [
      "True\n",
      "False\n"
     ]
    }
   ],
   "source": [
    "#判断地址为公网或私网\n",
    "#100.64.0.0/10是RPF6598中预留的私网地址\n",
    "print(IPAddress(\"100.64.0.1\").is_private())\n",
    "print(IPAddress(\"1.1.1.1\").is_private())"
   ]
  },
  {
   "cell_type": "code",
   "execution_count": 20,
   "metadata": {},
   "outputs": [
    {
     "data": {
      "text/plain": [
       "[IPNetwork('192.168.1.1/32'),\n",
       " IPNetwork('192.168.1.2/31'),\n",
       " IPNetwork('192.168.1.4/30'),\n",
       " IPNetwork('192.168.1.8/29'),\n",
       " IPNetwork('192.168.1.16/28'),\n",
       " IPNetwork('192.168.1.32/27'),\n",
       " IPNetwork('192.168.1.64/26'),\n",
       " IPNetwork('192.168.1.128/31'),\n",
       " IPNetwork('192.168.1.130/32')]"
      ]
     },
     "execution_count": 20,
     "metadata": {},
     "output_type": "execute_result"
    }
   ],
   "source": [
    "#定制任意一段ip地址范围\n",
    "from netaddr import IPRange\n",
    "ip_range = IPRange(\"192.168.1.1\",\"192.168.1.130\")\n",
    "ip_range\n",
    "\n",
    "#对这段地址进行聚合\n",
    "ip_range.cidrs()"
   ]
  },
  {
   "cell_type": "code",
   "execution_count": 27,
   "metadata": {},
   "outputs": [
    {
     "name": "stdout",
     "output_type": "stream",
     "text": [
      "172.20.1.253\n",
      "172.20.0.253\n"
     ]
    }
   ],
   "source": [
    "#IP地址的加减法\n",
    "ip = IPAddress(\"172.20.1.1\")\n",
    "print(ip + 252)\n",
    "print(ip - 4)"
   ]
  },
  {
   "cell_type": "code",
   "execution_count": 37,
   "metadata": {
    "scrolled": true
   },
   "outputs": [
    {
     "name": "stdout",
     "output_type": "stream",
     "text": [
      "\n",
      "interface Ethernet0/1.1\n",
      " ipv4 address 172.20.1.1 255.255.255.252\n",
      " encapsulation dot1q 1\n",
      " !\n",
      " \n",
      "\n",
      "interface Ethernet0/1.2\n",
      " ipv4 address 172.20.1.5 255.255.255.252\n",
      " encapsulation dot1q 2\n",
      " !\n",
      " \n",
      "\n",
      "interface Ethernet0/1.3\n",
      " ipv4 address 172.20.1.9 255.255.255.252\n",
      " encapsulation dot1q 3\n",
      " !\n",
      " \n",
      "\n",
      "interface Ethernet0/1.4\n",
      " ipv4 address 172.20.1.13 255.255.255.252\n",
      " encapsulation dot1q 4\n",
      " !\n",
      " \n",
      "\n",
      "interface Ethernet0/1.5\n",
      " ipv4 address 172.20.1.17 255.255.255.252\n",
      " encapsulation dot1q 5\n",
      " !\n",
      " \n",
      "\n",
      "interface Ethernet0/1.6\n",
      " ipv4 address 172.20.1.21 255.255.255.252\n",
      " encapsulation dot1q 6\n",
      " !\n",
      " \n",
      "\n",
      "interface Ethernet0/1.7\n",
      " ipv4 address 172.20.1.25 255.255.255.252\n",
      " encapsulation dot1q 7\n",
      " !\n",
      " \n",
      "\n",
      "interface Ethernet0/1.8\n",
      " ipv4 address 172.20.1.29 255.255.255.252\n",
      " encapsulation dot1q 8\n",
      " !\n",
      " \n",
      "\n",
      "interface Ethernet0/1.9\n",
      " ipv4 address 172.20.1.33 255.255.255.252\n",
      " encapsulation dot1q 9\n",
      " !\n",
      " \n",
      "\n",
      "interface Ethernet0/1.10\n",
      " ipv4 address 172.20.1.37 255.255.255.252\n",
      " encapsulation dot1q 10\n",
      " !\n",
      " \n"
     ]
    }
   ],
   "source": [
    "#这里我们用IP地址的加减法来完成对接口地址的分配并生成配置,假设我们要基于以下接口魔搬莱生成10个接口的相应配置.\n",
    "from netaddr import IPNetwork\n",
    "\n",
    "inf_cfg = '''\n",
    "interface Ethernet0/1.%d\n",
    " ipv4 address %s 255.255.255.252\n",
    " encapsulation dot1q %d\n",
    " !\n",
    " '''\n",
    "ip_net = IPNetwork(\"172.20.1.1/24\")\n",
    "for i in range(1,11):\n",
    "    ip = ip_net.ip + (i - 1) *4\n",
    "    print(inf_cfg %(i,ip,i))"
   ]
  },
  {
   "cell_type": "code",
   "execution_count": 48,
   "metadata": {},
   "outputs": [
    {
     "ename": "NameError",
     "evalue": "name 'cidrs_merge' is not defined",
     "output_type": "error",
     "traceback": [
      "\u001b[1;31m---------------------------------------------------------------------------\u001b[0m",
      "\u001b[1;31mNameError\u001b[0m                                 Traceback (most recent call last)",
      "\u001b[1;32m<ipython-input-48-a1004af2a495>\u001b[0m in \u001b[0;36m<module>\u001b[1;34m()\u001b[0m\n\u001b[0;32m      5\u001b[0m \u001b[0mip_list\u001b[0m\u001b[1;33m.\u001b[0m\u001b[0mappend\u001b[0m\u001b[1;33m(\u001b[0m\u001b[0mIPNetwork\u001b[0m\u001b[1;33m(\u001b[0m\u001b[1;34m\"192.168.0.0/24\"\u001b[0m\u001b[1;33m)\u001b[0m\u001b[1;33m)\u001b[0m\u001b[1;33m\u001b[0m\u001b[0m\n\u001b[0;32m      6\u001b[0m \u001b[0mip_list\u001b[0m\u001b[1;33m.\u001b[0m\u001b[0mappend\u001b[0m\u001b[1;33m(\u001b[0m\u001b[0mIPNetwork\u001b[0m\u001b[1;33m(\u001b[0m\u001b[1;34m\"192.168.3.0/26\"\u001b[0m\u001b[1;33m)\u001b[0m\u001b[1;33m)\u001b[0m\u001b[1;33m\u001b[0m\u001b[0m\n\u001b[1;32m----> 7\u001b[1;33m \u001b[0mcidrs_merge\u001b[0m\u001b[1;33m(\u001b[0m\u001b[0mip_list\u001b[0m\u001b[1;33m)\u001b[0m\u001b[1;33m\u001b[0m\u001b[0m\n\u001b[0m",
      "\u001b[1;31mNameError\u001b[0m: name 'cidrs_merge' is not defined"
     ]
    }
   ],
   "source": [
    "#地址聚合2#失败!\n",
    "ip_list=[]\n",
    "ip_list.append(IPNetwork(\"192.168.1.0/25\"))\n",
    "ip_list.append(IPNetwork(\"192.168.1.128/25\"))\n",
    "ip_list.append(IPNetwork(\"192.168.0.0/24\"))\n",
    "ip_list.append(IPNetwork(\"192.168.3.0/26\"))\n",
    "#cidrs_merge(ip_list)"
   ]
  },
  {
   "cell_type": "code",
   "execution_count": 67,
   "metadata": {},
   "outputs": [
    {
     "name": "stdout",
     "output_type": "stream",
     "text": [
      "98-5A-EB-9F-35-F8\n",
      "98-5A-EB-9F-35-F8\n",
      "98-5A-EB-9F-35-F8\n"
     ]
    }
   ],
   "source": [
    "#使用netaddr处理mac地址\n",
    "from netaddr import *\n",
    "mac = EUI(\"98:5a:eb:9f:35:f8\")\n",
    "print(EUI(\"98:5a:eb:9f:35:f8\"))\n",
    "print(EUI(\"985a:eb9f:35f8\"))\n",
    "print(EUI(\"985aeb9f35f8\"))"
   ]
  },
  {
   "cell_type": "code",
   "execution_count": 68,
   "metadata": {},
   "outputs": [
    {
     "name": "stdout",
     "output_type": "stream",
     "text": [
      "98:5a:eb:9f:35:f8\n",
      "985a.eb9f.35f8\n",
      "985AEB9F35F8\n"
     ]
    }
   ],
   "source": [
    "mac.dialect = mac_unix\n",
    "print(mac)\n",
    "mac.dialect = mac_cisco\n",
    "print(mac)\n",
    "mac.dialect = mac_bare\n",
    "print(mac)"
   ]
  },
  {
   "cell_type": "code",
   "execution_count": 69,
   "metadata": {
    "scrolled": true
   },
   "outputs": [
    {
     "data": {
      "text/plain": [
       "{'OUI': {'address': ['1 Infinite Loop', 'Cupertino  CA  95014', 'US'],\n",
       " 'idx': 9984747,\n",
       " 'offset': 750381,\n",
       " 'org': 'Apple, Inc.',\n",
       " 'oui': '98-5A-EB',\n",
       " 'size': 123}}"
      ]
     },
     "execution_count": 69,
     "metadata": {},
     "output_type": "execute_result"
    }
   ],
   "source": [
    "#我们还可以获取MAC地址的大部分厂家信息.\n",
    "mac.info"
   ]
  }
 ],
 "metadata": {
  "kernelspec": {
   "display_name": "Python 3",
   "language": "python",
   "name": "python3"
  },
  "language_info": {
   "codemirror_mode": {
    "name": "ipython",
    "version": 3
   },
   "file_extension": ".py",
   "mimetype": "text/x-python",
   "name": "python",
   "nbconvert_exporter": "python",
   "pygments_lexer": "ipython3",
   "version": "3.6.3"
  }
 },
 "nbformat": 4,
 "nbformat_minor": 2
}
