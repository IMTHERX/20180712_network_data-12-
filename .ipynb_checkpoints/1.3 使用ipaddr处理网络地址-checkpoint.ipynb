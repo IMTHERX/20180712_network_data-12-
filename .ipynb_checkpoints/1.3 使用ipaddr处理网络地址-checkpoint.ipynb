{
 "cells": [
  {
   "cell_type": "markdown",
   "metadata": {},
   "source": [
    "ipaddr是一个由google开源的小项目,这个代码和netaddr一样,能够处理ipv4和ipv6的地址类型,但是它并不提供mac地址类型的处理.\n",
    "\n",
    "从python3.3开始,它已经加入python的标准库中,模块名为ipaddress,但是和ipaddr还是有细小的差异.\n",
    "\n",
    "ipaddr模块的所有功能,都在一个文件中实现,它是一个轻量级的IP处理模块."
   ]
  },
  {
   "cell_type": "code",
   "execution_count": 10,
   "metadata": {},
   "outputs": [],
   "source": [
    "#ipaddr的基本用法\n",
    "#一般不推荐这种导入方法,在使用多个库的时候,可能会存在方法或者类的重复.\n",
    "from ipaddr import *\n",
    "\n",
    "ipv4=IPNetwork(\"192.168.1.1/24\")\n",
    "ipv6=IPNetwork(\"2017:11:AF::17/56\")"
   ]
  },
  {
   "cell_type": "code",
   "execution_count": 7,
   "metadata": {},
   "outputs": [
    {
     "name": "stdout",
     "output_type": "stream",
     "text": [
      "255.255.255.0\n",
      "ffff:ffff:ffff:ff00::\n"
     ]
    }
   ],
   "source": [
    "#获取子网掩码\n",
    "print(ipv4.netmask)\n",
    "print(ipv6.netmask)"
   ]
  },
  {
   "cell_type": "code",
   "execution_count": 8,
   "metadata": {
    "scrolled": true
   },
   "outputs": [
    {
     "name": "stdout",
     "output_type": "stream",
     "text": [
      "192.168.1.255\n",
      "2017:11:af:ff:ffff:ffff:ffff:ffff\n"
     ]
    }
   ],
   "source": [
    "#获取广播地址\n",
    "print(ipv4.broadcast)\n",
    "print(ipv6.broadcast)"
   ]
  },
  {
   "cell_type": "code",
   "execution_count": 9,
   "metadata": {},
   "outputs": [
    {
     "name": "stdout",
     "output_type": "stream",
     "text": [
      "0.0.0.255\n",
      "::ff:ffff:ffff:ffff:ffff\n"
     ]
    }
   ],
   "source": [
    "#获取反掩码,通配符\n",
    "print(ipv4.hostmask)\n",
    "print(ipv6.hostmask)"
   ]
  },
  {
   "cell_type": "code",
   "execution_count": 14,
   "metadata": {},
   "outputs": [
    {
     "name": "stdout",
     "output_type": "stream",
     "text": [
      "True\n",
      "False\n"
     ]
    }
   ],
   "source": [
    "#获取地址的包含关系\n",
    "print(IPAddress(\"192.168.1.1\") in ipv4)\n",
    "print(IPAddress(\"192.168.1.1\") in ipv6)"
   ]
  },
  {
   "cell_type": "code",
   "execution_count": 15,
   "metadata": {},
   "outputs": [
    {
     "data": {
      "text/plain": [
       "[IPv4Network('1.1.0.0/22')]"
      ]
     },
     "execution_count": 15,
     "metadata": {},
     "output_type": "execute_result"
    }
   ],
   "source": [
    "#地址聚合\n",
    "ip_list=[]\n",
    "ip_list.append(IPNetwork(\"1.1.1.0/25\"))\n",
    "ip_list.append(IPNetwork(\"1.1.1.128/25\"))\n",
    "ip_list.append(IPNetwork(\"1.1.0.0/24\"))\n",
    "ip_list.append(IPNetwork(\"1.1.2.0/23\"))\n",
    "CollapseAddrList(ip_list)"
   ]
  }
 ],
 "metadata": {
  "kernelspec": {
   "display_name": "Python 3",
   "language": "python",
   "name": "python3"
  },
  "language_info": {
   "codemirror_mode": {
    "name": "ipython",
    "version": 3
   },
   "file_extension": ".py",
   "mimetype": "text/x-python",
   "name": "python",
   "nbconvert_exporter": "python",
   "pygments_lexer": "ipython3",
   "version": "3.6.3"
  }
 },
 "nbformat": 4,
 "nbformat_minor": 2
}
