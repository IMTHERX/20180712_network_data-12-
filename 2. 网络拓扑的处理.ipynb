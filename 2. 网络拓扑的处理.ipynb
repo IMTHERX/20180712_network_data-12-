{
 "cells": [
  {
   "cell_type": "markdown",
   "metadata": {},
   "source": [
    "visio以及powerpoint特别不方便,虽然画出来很好看,但是拓扑不方便转化为结构化的数据格式.也很难在这样的拓扑上来进行路径的计算.\n",
    "\n",
    "这里将会使用类似DOT语言的一个python模块\n",
    "\n",
    "networkx是一个功能丰富的用于拓扑计算的模块"
   ]
  },
  {
   "cell_type": "markdown",
   "metadata": {},
   "source": [
    "为了计算网络的路径,我们需要先输入网络的拓扑关系,有了网络的拓扑关系,才可以进行基于路径拓扑的计算.\n",
    "在网络拓扑的描述上,networkx和dot非常相似,也分为3各部分:节点,边缘和属性.\n",
    "在networkx中,节点成为node,边是链路,成为edge."
   ]
  },
  {
   "cell_type": "code",
   "execution_count": 9,
   "metadata": {
    "collapsed": true
   },
   "outputs": [],
   "source": [
    "import networkx as nx\n",
    "nodes = [\"BJ\",\"SH\",\"GZ\",\"HZ\",\"NJ\",\"WH\",\"XA\"]\n",
    "#初始化无向量的单重图\n",
    "G = nx.Graph()"
   ]
  },
  {
   "cell_type": "code",
   "execution_count": 10,
   "metadata": {},
   "outputs": [],
   "source": [
    "#添加节点到图表中\n",
    "for node in nodes:\n",
    "    G.add_node(node)\n"
   ]
  },
  {
   "cell_type": "code",
   "execution_count": 14,
   "metadata": {},
   "outputs": [],
   "source": [
    "edges = [\n",
    "    (\"BJ\",\"NJ\"),\n",
    "    (\"BJ\",\"SH\"),\n",
    "    (\"BJ\",\"GZ\"),\n",
    "    (\"BJ\",\"XA\"),\n",
    "    (\"BJ\",\"WH\"),\n",
    "    (\"XA\",\"GZ\"),\n",
    "    (\"WH\",\"SH\"),\n",
    "    (\"GZ\",\"HZ\"),\n",
    "    (\"HZ\",\"SH\"),\n",
    "    (\"NJ\",\"SH\"),\n",
    "    (\"GZ\",\"SH\"),\n",
    "]\n",
    "\n",
    "#图\n",
    "G.add_edges_from(edges)"
   ]
  },
  {
   "cell_type": "markdown",
   "metadata": {},
   "source": [
    "假设每个点之间的cost为1,来算2个节点之间,最近的路径"
   ]
  },
  {
   "cell_type": "code",
   "execution_count": 15,
   "metadata": {},
   "outputs": [
    {
     "data": {
      "text/plain": [
       "['WH', 'SH', 'HZ']"
      ]
     },
     "execution_count": 15,
     "metadata": {},
     "output_type": "execute_result"
    }
   ],
   "source": [
    "#G图中,wh到hz的最短路径\n",
    "nx.shortest_path(G,\"WH\",\"HZ\")"
   ]
  }
 ],
 "metadata": {
  "kernelspec": {
   "display_name": "Python 3",
   "language": "python",
   "name": "python3"
  },
  "language_info": {
   "codemirror_mode": {
    "name": "ipython",
    "version": 3
   },
   "file_extension": ".py",
   "mimetype": "text/x-python",
   "name": "python",
   "nbconvert_exporter": "python",
   "pygments_lexer": "ipython3",
   "version": "3.6.3"
  }
 },
 "nbformat": 4,
 "nbformat_minor": 2
}
