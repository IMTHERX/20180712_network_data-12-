{
 "cells": [
  {
   "cell_type": "markdown",
   "metadata": {},
   "source": [
    "网络工程师日常的工作中,经常需要处理IP地址信息,比如在一个地址段中,重新分配IP地址子网,又或者汇聚一些路由信息等等.\n",
    "IP地址在使用文本工具或者excel等工具处理的时候,并不是很方便,而在python中,我们可以找到多个用来处理ip地址的模块."
   ]
  }
 ],
 "metadata": {
  "kernelspec": {
   "display_name": "Python 3",
   "language": "python",
   "name": "python3"
  },
  "language_info": {
   "codemirror_mode": {
    "name": "ipython",
    "version": 3
   },
   "file_extension": ".py",
   "mimetype": "text/x-python",
   "name": "python",
   "nbconvert_exporter": "python",
   "pygments_lexer": "ipython3",
   "version": "3.6.3"
  }
 },
 "nbformat": 4,
 "nbformat_minor": 2
}
